{
 "cells": [
  {
   "cell_type": "markdown",
   "metadata": {},
   "source": [
    "Task1 | Напишите скрипт, который читает текстовый файл и выводит символы в порядке убывания частоты встречаемости в тексте. Регистр символа не имеет значения. Программа должна учитывать только буквенные символы (символы пунктуации, цифры и служебные символы слудет игнорировать). Проверьте работу скрипта на нескольких файлах с текстом на английском и русском языках, сравните результаты с таблицами, приведенными в wikipedia.org/wiki/Letter_frequencies."
   ]
  },
  {
   "cell_type": "code",
   "execution_count": 2,
   "metadata": {},
   "outputs": [
    {
     "name": "stdout",
     "output_type": "stream",
     "text": [
      "e - 25\n",
      "a - 23\n",
      "t - 18\n",
      "o - 13\n",
      "m - 12\n",
      "h - 12\n",
      "l - 11\n",
      "s - 10\n",
      "p - 8\n",
      "n - 7\n",
      "y - 7\n",
      "i - 7\n",
      "c - 7\n",
      "r - 7\n",
      "v - 6\n",
      "d - 4\n",
      "u - 4\n",
      "k - 3\n",
      "w - 3\n",
      "g - 2\n",
      "b - 2\n",
      "f - 1\n"
     ]
    }
   ],
   "source": [
    "def Letter_frequencies():\n",
    "    file = open(r\"C:\\\\Users\\\\admin\\Desktop\\\\Phyton\\\\lab2\\\\dir\\\\task1.txt\", \"r\")\n",
    "    input_text = file.read().lower()\n",
    "    file.close()\n",
    "    frequency = {}\n",
    "\n",
    "    for letter in input_text:\n",
    "        if letter.isalpha():\n",
    "            count = frequency.get(letter, 0)\n",
    "            frequency[letter] = count + 1\n",
    "\n",
    "    sortFrequency = sorted(frequency.items(), key=lambda x: x[1], reverse=True)  \n",
    "    for letter, count in  sortFrequency:\n",
    "        print(letter, count, sep=\" - \")\n",
    "\n",
    "Letter_frequencies()"
   ]
  },
  {
   "cell_type": "markdown",
   "metadata": {},
   "source": [
    "Task2 | Напишите скрипт, позволяющий искать в заданной директории и в ее подпапках файлы-дубликаты на основе сравнения контрольных сумм (MD5). Файлы могут иметь одинаковое содержимое, но отличаться именами. Скрипт должен вывести группы имен обнаруженных файлов-дубликатов. "
   ]
  },
  {
   "cell_type": "code",
   "execution_count": 10,
   "metadata": {},
   "outputs": [
    {
     "name": "stdout",
     "output_type": "stream",
     "text": [
      "Группа дубликатов: task1 — копия.txt task1.txt\n",
      "Группа дубликатов: task1 — копия.txt task2.txt\n",
      "Группа дубликатов: task1.txt task2.txt\n"
     ]
    }
   ],
   "source": [
    "import os\n",
    "import hashlib\n",
    "\n",
    "def search_duplicate_files():\n",
    "    #file_name = 'lab2'\n",
    "    files = os.listdir(\"dir\")\n",
    "    nums = []\n",
    "\n",
    "    for file in files:\n",
    "        with open(\"./dir/\" + file) as file:\n",
    "            nums.append(hashlib.md5(file.read().encode('utf-8')).hexdigest())\n",
    "\n",
    "    for i in range(len(files) - 1):\n",
    "        for j in range(i + 1, len(files)):\n",
    "            if nums[i] == nums[j]:\n",
    "                print('Группа дубликатов:', files[i], files[j])\n",
    "\n",
    "search_duplicate_files()"
   ]
  },
  {
   "cell_type": "markdown",
   "metadata": {},
   "source": [
    "Task3 | Задан путь к директории с музыкальными файлами (в названии которых нет номеров, а только названия песен) и текстовый файл, хранящий полный список песен с номерами и названиями в виде строк формата «01. Freefall [6:12]». Напишите скрипт, который корректирует имена файлов в директории на основе текста списка песен."
   ]
  },
  {
   "cell_type": "code",
   "execution_count": 32,
   "metadata": {},
   "outputs": [],
   "source": [
    "import os\n",
    "\n",
    "def replace_name_track():\n",
    "    file_name = 'musics'\n",
    "    with open('musicList.txt') as f:\n",
    "        for file in os.listdir(file_name):\n",
    "            os.replace(file_name + '/' + file, file_name + '/' + f.readline().rstrip() + '.mp3')\n",
    "\n",
    "replace_name_track()"
   ]
  },
  {
   "cell_type": "markdown",
   "metadata": {},
   "source": [
    "Task4 | Напишите скрипт, который позволяет ввести с клавиатуры имя текстового файла, найти в нем с помощью регулярных выражений все подстроки определенного вида, в соответствии с вариантом. Вариант 6: найдите все строки вида «x: type [N]», где type – это тип (может принимать значение int, short или byte), х – любое слово, N – любое положительное целое число."
   ]
  },
  {
   "cell_type": "code",
   "execution_count": 1,
   "metadata": {},
   "outputs": [
    {
     "name": "stdout",
     "output_type": "stream",
     "text": [
      "Файл не найден!\n",
      "<class 'list'>\n",
      "Строка  4 , Позиция  (9, 26)  найдено : 'privet: byte [13]'\n",
      "<class 'list'>\n",
      "Строка  5 , Позиция  (0, 15)  найдено : 'hallo: int [22]'\n",
      "<class 'list'>\n",
      "Строка  10 , Позиция  (12, 27)  найдено : 'row: short [89]'\n"
     ]
    }
   ],
   "source": [
    "import re\n",
    "\n",
    "def find_match(text):\n",
    "    for i in range(len(text)):\n",
    "        pattern = re.compile(r'[a-z]{1,}: (?:int|short|byte) \\[[0-9]{1,}\\]')\n",
    "        result = pattern.findall(text[i])\n",
    "        searchForResult = pattern.search(text[i])\n",
    "        if searchForResult is not None:\n",
    "            print(type(result))\n",
    "            print('Строка ', i, ', Позиция ', searchForResult.span(), \" найдено : '{}'\".format(result[0]))\n",
    "\n",
    "def fopen(pathToFile):\n",
    "    rfile = open(pathToFile)\n",
    "    fileString = rfile.readlines()\n",
    "    find_match(fileString)\n",
    "\n",
    "finish_it = False\n",
    "while finish_it is not True:\n",
    "    try:\n",
    "        _pathToFile = input('Введите путь к файлу: ')\n",
    "        fopen(_pathToFile)\n",
    "        finish_it = True\n",
    "    except(FileNotFoundError, OSError):\n",
    "        print('Файл не найден!')"
   ]
  },
  {
   "cell_type": "markdown",
   "metadata": {},
   "source": [
    "Task5 | Введите с клавиатуры текст. Программно найдите в нем и выведите отдельно все слова, которые начинаются с большого латинского символа (от A до Z) и заканчиваются 2 или 4 цифрами, например «Petr93», «Johnny70», «Service2002». Используйте регулярные выражения."
   ]
  },
  {
   "cell_type": "code",
   "execution_count": 40,
   "metadata": {},
   "outputs": [
    {
     "name": "stdout",
     "output_type": "stream",
     "text": [
      "['Petr93', 'Service2002']\n"
     ]
    }
   ],
   "source": [
    "import re\n",
    "\n",
    "# Petr93 Service2002\n",
    "\n",
    "text = input(\"Введите текст\")\n",
    "temp = re.findall(r\"\\b[A-Z][a-z]+\\d{2}\\b|\\b[A-Z][a-z]+\\d{4}\\b\", text)\n",
    "print(temp)\n"
   ]
  },
  {
   "cell_type": "markdown",
   "metadata": {},
   "source": [
    "Task6 | Напишите скрипт reorganize.py, который в директории --source создает две директории: Archive и Small. В первую директорию помещаются файлы с датой изменения, отличающейся от текущей даты на количество дней более параметра --days (т.е. относительно старые файлы). Во вторую – все файлы размером меньше параметра --size байт. Каждая директория должна создаваться только в случае, если найден хотя бы один файл, который должен быть в нее помещен. Примервызова: reorganize --source \"C:\\TestDir\" --days 2 --size 4096"
   ]
  },
  {
   "cell_type": "code",
   "execution_count": null,
   "metadata": {},
   "outputs": [],
   "source": []
  },
  {
   "cell_type": "markdown",
   "metadata": {},
   "source": [
    "Task7 |  Написать скрипт trackmix.py, который формирует обзорный трек-микс альбома (попурри из коротких фрагментов mp3-файлов в пользовательской директории). Для манипуляций со звуковыми файлами можно использовать сторонние утилиты, например, FFmpeg."
   ]
  },
  {
   "cell_type": "code",
   "execution_count": null,
   "metadata": {},
   "outputs": [],
   "source": []
  }
 ],
 "metadata": {
  "interpreter": {
   "hash": "e4cce46d6be9934fbd27f9ca0432556941ea5bdf741d4f4d64c6cd7f8dfa8fba"
  },
  "kernelspec": {
   "display_name": "Python 3.9.7 ('base')",
   "language": "python",
   "name": "python3"
  },
  "language_info": {
   "codemirror_mode": {
    "name": "ipython",
    "version": 3
   },
   "file_extension": ".py",
   "mimetype": "text/x-python",
   "name": "python",
   "nbconvert_exporter": "python",
   "pygments_lexer": "ipython3",
   "version": "3.9.7"
  },
  "orig_nbformat": 4
 },
 "nbformat": 4,
 "nbformat_minor": 2
}
