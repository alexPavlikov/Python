{
 "cells": [
  {
   "cell_type": "markdown",
   "metadata": {},
   "source": [
    "Task 1\n",
    " Напишите скрипт, который преобразует введенное с клавиатуры вещественное число в денежный формат. Например, число 12,5 должно быть преобразовано к виду «12 руб. 50 коп.». В случае ввода \n",
    "отрицательного числа выдайте сообщение «Некорректный формат!» путем обработки исключения в коде"
   ]
  },
  {
   "cell_type": "code",
   "execution_count": null,
   "metadata": {},
   "outputs": [],
   "source": [
    "sum = float(input('введите вещественное число: '))\n",
    "bill = int(sum)\n",
    "try:\n",
    "     if sum >= 0:\n",
    "        coins = int((sum - int(sum)) * 100)  \n",
    "        print(bill, 'руб.', coins, 'коп.') \n",
    "     else: raise ValueError\n",
    "except ValueError:\n",
    "    print(\"Что-то ты попутал\")  "
   ]
  },
  {
   "cell_type": "markdown",
   "metadata": {},
   "source": [
    "Task 2\n",
    "Написать скрипт, который выводит на экран «True», если элементы программно задаваемого списка представляют собой возрастающую последовательность, иначе – «False»."
   ]
  },
  {
   "cell_type": "code",
   "execution_count": null,
   "metadata": {},
   "outputs": [],
   "source": [
    "def CheckArray(lst):\n",
    "    i = 1\n",
    "    while i < len(lst):\n",
    "        if (lst[i] < lst[i - 1]): return False\n",
    "        i += 1     \n",
    "    else: \n",
    "        return True\n",
    "\n",
    "print(CheckArray([7.2, 31, 9, 14, 13, 65, 8.8, 6])) \n",
    "print(CheckArray([1, 2, 3, 4, 5, 6, 7, 8, 9, 10]))       "
   ]
  },
  {
   "cell_type": "markdown",
   "metadata": {},
   "source": [
    "Task 3\n",
    " Напишите скрипт, который позволяет ввести с клавиатуры номер дебетовой карты (16 цифр) и выводит номер в скрытом виде: первые и последние 4 цифры отображены нормально, \n",
    " а между ними – символы «*» (например, 5123 **** **** 1212).\n"
   ]
  },
  {
   "cell_type": "code",
   "execution_count": null,
   "metadata": {},
   "outputs": [],
   "source": [
    "cardNum = str(input()) \n",
    "cardNum = int(cardNum) \n",
    "if len(str(cardNum)) != 16: \n",
    "    print(\"Вы ввели некорректное количество значений\")\n",
    "else:\n",
    "    cardNum = str(cardNum) \n",
    "    print(cardNum[:4] + ' **** **** ' + cardNum[12:]) "
   ]
  },
  {
   "cell_type": "markdown",
   "metadata": {},
   "source": [
    "Task 4 \n",
    "Напишите скрипт, который разделяет введенный с клавиатуры текст на слова и выводит сначала те слова, длина которых превосходит 7 символов, затем слова размером от 4 до 7 символов, \n",
    "затем – все остальные.\n"
   ]
  },
  {
   "cell_type": "code",
   "execution_count": null,
   "metadata": {},
   "outputs": [],
   "source": [
    "text = input(\"Введите текст: \")\n",
    "lst = text.split()\n",
    "lst.sort(key=len, reverse=True)\n",
    "print(\" \".join(lst))"
   ]
  },
  {
   "cell_type": "markdown",
   "metadata": {},
   "source": [
    "Task 5\n",
    "Напишите скрипт, который позволяет ввести с клавиатуры текст предложения и сформировать новую строку на основе исходной, в которой все слова, начинающиеся с большой буквы, приведены к \n",
    "верхнему регистру. Слова могут разделяться запятыми или пробелами.Например, если пользователь введет строку «город Донецк, река Кальмиус», результирующая строка должна выглядеть так: \n",
    "«город ДОНЕЦК, река КАЛЬМИУС»."
   ]
  },
  {
   "cell_type": "code",
   "execution_count": null,
   "metadata": {},
   "outputs": [],
   "source": [
    "capital_latter = []\n",
    " \n",
    "Input = input(\"Напишите слово:\").split(\" \")\n",
    "for i in Input:\n",
    "    if i >=\"A\" and i<=\"Z\":   \n",
    "        capital_latter.append(i.upper())\n",
    "    else:\n",
    "       capital_latter.append(i) \n",
    "print(\" \".join(capital_latter))"
   ]
  },
  {
   "cell_type": "markdown",
   "metadata": {},
   "source": [
    "Task 6\n",
    "Напишите программу, позволяющую ввести с клавиатуры текст предложения и вывести на консоль все символы, которые входят в этот текст ровно по одному разу.\n"
   ]
  },
  {
   "cell_type": "code",
   "execution_count": null,
   "metadata": {},
   "outputs": [],
   "source": [
    "words = set(input(\"Введите текст: \"))                              \n",
    "print(words)"
   ]
  },
  {
   "cell_type": "markdown",
   "metadata": {},
   "source": [
    "Task 7\n",
    "Напишите скрипт, который обрабатывает список строк-адресов следующим образом: сначала определяет, начинается ли каждая строкав списке с префикса «www». Если условие выполняется, то скрипт \n",
    "должен вставить в начало этой строки префикс «http://», а затемпроверить, что строка заканчивается на «.com». Если у строки другое окончание, то скрипт должен вставить в конец подстроку\n",
    "«.com». В итоге скрипт должен вывести на консоль новый список с измененными адресами. Используйте генераторы списков."
   ]
  },
  {
   "cell_type": "code",
   "execution_count": null,
   "metadata": {},
   "outputs": [],
   "source": [
    "address_list = ['www.vk.ru', 'www.youtube.ru', 'www.telegram.uk']\n",
    "new_list = [('http://' + address + '.com') for address in address_list if (address.startswith('www.') and address.endswith('.com') == False)]\n",
    "print(new_list)"
   ]
  },
  {
   "cell_type": "markdown",
   "metadata": {},
   "source": [
    "Task 8\n",
    "Напишите скрипт, генерирующий случайным образом число n в диапазоне от 1 до 10000. Скрипт должен создать массив из n целых чисел, также сгенерированных случайным образом, и дополнить \n",
    "массив нулями до размера, равного ближайшей сверху степени двойки. Например, если в массиве было n=100 элементов, то массив нужно дополнить 28 нулями, чтобы в итоге был массив из \n",
    "28 = 128 элементов (ближайшая степень двойки к 100 – это число 128, к 35 – это 64 и т.д.)."
   ]
  },
  {
   "cell_type": "code",
   "execution_count": null,
   "metadata": {},
   "outputs": [],
   "source": [
    "from random import randint\n",
    "\n",
    "n = randint(0, 10000)\n",
    "A = [0] * n\n",
    "\n",
    "for i in range (0, n): \n",
    "    A[i]=randint(1,1000)  \n",
    "\n",
    "i = 0\n",
    "\n",
    "while True:\n",
    "    if 2 ** i - n > 0:\n",
    "        k = 2 ** i\n",
    "        break\n",
    "    else:\n",
    "        i += 1\n",
    "\n",
    "arr = []\n",
    "\n",
    "for i in range(k):\n",
    "    arr.append(0)\n",
    "\n",
    "arr+= A\n",
    "arr.reverse()\n",
    "\n",
    "print(arr)\n"
   ]
  },
  {
   "cell_type": "markdown",
   "metadata": {},
   "source": [
    "Task 9\n",
    "Напишите программу, имитирующую работу банкомата. Выберите структуру данных для хранения купюр разного достоинства в заданном количестве. При вводе пользователем запрашиваемой суммы денег, \n",
    "скрипт должен вывести на консоль количество купюр подходящего достоинства. Если имеющихся денег не хватает, то необходимонапечатать сообщение «Операция не может быть выполнена!».\n",
    "Например, при сумме 5370 рублей на консоль должно быть выведено «5*1000 + 3*100 + 1*50 + 2*10».\n"
   ]
  },
  {
   "cell_type": "code",
   "execution_count": null,
   "metadata": {},
   "outputs": [],
   "source": [
    "def Bankomat(Cash):\n",
    "\n",
    "    bankWallet = {1000: 10, 500: 5, 100: 10, 50: 5, 10: 10}\n",
    "    takeMoney = []\n",
    "\n",
    "    for bill, value in bankWallet.items():\n",
    "        if Cash < bill * value and value != 0:\n",
    "            value = Cash//bill\n",
    "            \n",
    "        takeMoney.append((value, bill))\n",
    "        Cash -= bill * value\n",
    "        bankWallet[bill] -= value\n",
    "     \n",
    "    if Cash!= 0:\n",
    "        print(\"У Вас недостаточно средств на балансе!\")\n",
    "\n",
    "    for b, v in takeMoney:\n",
    "        if Cash == 0:\n",
    "            print(f\"{b}*{v}\", end=\" \")\n",
    "             \n",
    "    \n",
    "Bankomat(int(input(\"Введите сумму: \")))"
   ]
  },
  {
   "cell_type": "markdown",
   "metadata": {},
   "source": [
    "Task 10\n",
    "Напишите скрипт, позволяющий определить надежность вводимого пользователем пароля. Это задание является творческим: алгоритм определения надежности разработайте самостоятельно.\n"
   ]
  },
  {
   "cell_type": "code",
   "execution_count": null,
   "metadata": {},
   "outputs": [],
   "source": [
    "import re\n",
    "\n",
    "password = input('Введите пароль')\n",
    "if len(password) < 6:\n",
    "    raise ValueError('Минимум 6 символов')\n",
    "re.search('\\d+',password) is not None\n",
    "if True:\n",
    "    if len(password)>12:\n",
    "        print(\"Уровень защиты 5 из 5\")\n",
    "    elif len(password) == 6:\n",
    "        print(\"Уровень защиты 3 из 5\")\n",
    "    else:\n",
    "        print(\"Уровень защиты 4 из 5\")\n",
    "\n",
    "\n",
    "    "
   ]
  },
  {
   "cell_type": "markdown",
   "metadata": {},
   "source": [
    "Task 11\n",
    "Напишите генератор frange как аналог range() с дробным шагом."
   ]
  },
  {
   "cell_type": "code",
   "execution_count": null,
   "metadata": {},
   "outputs": [],
   "source": [
    "s = int(input('Введите начало диапазона'))\n",
    "e = int(input('Введите конец диапазона'))\n",
    "step = float(input('Введите шаг в диапазона'))\n",
    "def frange(s, e, step):\n",
    "    while s < e - step:\n",
    "        yield round(s,1)\n",
    "        s += step\n",
    "for i in frange(s, e, step):\n",
    "    print(i) "
   ]
  },
  {
   "cell_type": "markdown",
   "metadata": {},
   "source": [
    "Task 12\n",
    "Напишите генератор get_frames(), который производит «оконную декомпозицию» сигнала: на основе входного списка генерирует набор списков – перекрывающихся отдельных фрагментов сигнала размера \n",
    "#size со степенью перекрытия overlap."
   ]
  },
  {
   "cell_type": "code",
   "execution_count": null,
   "metadata": {},
   "outputs": [],
   "source": []
  },
  {
   "cell_type": "markdown",
   "metadata": {},
   "source": [
    "Task 13\n",
    "Напишите собственную версию генератора enumerate под названием extra_enumerate. В переменной cum хранится накопленная сумма на момент текущей итерации, в переменной \n",
    "frac – доля накопленной суммы от общей суммы на момент текущей итерации."
   ]
  },
  {
   "cell_type": "code",
   "execution_count": 1,
   "metadata": {},
   "outputs": [
    {
     "name": "stdout",
     "output_type": "stream",
     "text": [
      "(1, 1, 0.1)\n",
      "(3, 4, 0.4)\n",
      "(4, 8, 0.8)\n",
      "(2, 10, 1.0)\n"
     ]
    }
   ],
   "source": [
    "def extra_enumerate(x):\n",
    "    cum, frac, sum = 0, 0, 0\n",
    "    for i in x:\n",
    "        sum += i\n",
    "    for i in x:\n",
    "        cum += i\n",
    "        frac = cum / sum\n",
    "        yield (x.index(i), i, cum, frac)\n",
    "        \n",
    "x = [1, 3, 4, 2]\n",
    "for i, elem, cum, frac in extra_enumerate(x):\n",
    "    print(( elem, cum, frac))"
   ]
  },
  {
   "cell_type": "markdown",
   "metadata": {},
   "source": [
    "Task 14\n",
    " Напишите декоратор non_empty, который дополнительно проверяет списковый результат любой функции: если в нем содержатся пустые строки или значение None, то они удаляются."
   ]
  },
  {
   "cell_type": "code",
   "execution_count": null,
   "metadata": {},
   "outputs": [],
   "source": [
    "def nonEmpty(func):\n",
    "    def wrapped():\n",
    "        return list(filter(None, func()))\n",
    "    return wrapped    \n",
    "\n",
    "@nonEmpty\n",
    "def getPages():\n",
    "    pgs = ['chapter1', '', 'contents', '', 'line1', '']\n",
    "    return pgs \n",
    "\n",
    "print(getPages())\n"
   ]
  },
  {
   "cell_type": "markdown",
   "metadata": {},
   "source": [
    "Task 15\n",
    "Напишите параметризированный декоратор pre_process, который осуществляет предварительную обработку (цифровую фильтрацию) списка по алгоритму: s[i] = s[i]–a∙s[i–1]. \n",
    "Параметр а можно задать в коде (по умолчанию равен 0.97)."
   ]
  },
  {
   "cell_type": "code",
   "execution_count": null,
   "metadata": {},
   "outputs": [],
   "source": [
    "def pre_process(a):\n",
    "    def decorator(fn):\n",
    "        def wrapped(list):\n",
    "             return  fn([round(list[i]-a*list[i-1],2) for i in range(len(list))])\n",
    "        return wrapped\n",
    "    return decorator\n",
    "\n",
    "@pre_process(0.97)\n",
    "def plot_signal(list):\n",
    "    [print(sample) for sample in list]\n",
    "\n",
    "plot_signal([i for i in range(15)])"
   ]
  },
  {
   "cell_type": "markdown",
   "metadata": {},
   "source": [
    "Task 16\n",
    "Напишите скрипт, который на основе списка из 16 названий футбольных команд случайным образом формирует 4 группы по 4 команды, а также выводит на консоль календарь всех игр (игры \n",
    "должны проходить по средам, раз в 2 недели, начиная с 14 сентября текущего года). Даты игр необходимо выводить в формате «14/09/2016, 22:45». Используйте модули random и itertools."
   ]
  },
  {
   "cell_type": "code",
   "execution_count": null,
   "metadata": {},
   "outputs": [],
   "source": [
    "import random\n",
    "import itertools\n",
    "import datetime\n",
    "\n",
    "teams = [\"Barcelona\", \"Real Madrid\", \"Athletico Madrid\", \n",
    "        \"Liverpool\", \"Manchester City\", \"Manchester United\", \"Chelsey\", \n",
    "        \"Juventus\", \"Lazio\", \"Inter Milan\", \"PSG\", \n",
    "        \"Lyon\", \"Ajax\", \"Portu\", \"Marseille\", \"Rubin\"]\n",
    "\n",
    "time = datetime.datetime(2022, 9, 14, 18, 00)\n",
    "\n",
    "random.shuffle(teams)\n",
    "for i in range(4):\n",
    "    groups = teams[i*4:i*4+4]\n",
    "    print(\"\\nGroup №\",i+1,\"->\",groups, \"\\n\")\n",
    "\n",
    "    for i in itertools.combinations(groups, 2):\n",
    "        print(' - '.join(i), time.strftime(\"%d/%m/%Y %H:%M\"))\n",
    "        time += datetime.timedelta(days=14, hours=5)"
   ]
  }
 ],
 "metadata": {
  "interpreter": {
   "hash": "57baa5815c940fdaff4d14510622de9616cae602444507ba5d0b6727c008cbd6"
  },
  "kernelspec": {
   "display_name": "Python 3.7.8 64-bit",
   "language": "python",
   "name": "python3"
  },
  "language_info": {
   "codemirror_mode": {
    "name": "ipython",
    "version": 3
   },
   "file_extension": ".py",
   "mimetype": "text/x-python",
   "name": "python",
   "nbconvert_exporter": "python",
   "pygments_lexer": "ipython3",
   "version": "3.9.7"
  },
  "orig_nbformat": 4
 },
 "nbformat": 4,
 "nbformat_minor": 2
}
